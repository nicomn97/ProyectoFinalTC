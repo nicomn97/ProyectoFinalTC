{
 "cells": [
  {
   "cell_type": "code",
   "execution_count": 1,
   "metadata": {},
   "outputs": [],
   "source": [
    "import numpy as np\n",
    "import matplotlib.pyplot as plt"
   ]
  },
  {
   "cell_type": "code",
   "execution_count": null,
   "metadata": {},
   "outputs": [],
   "source": []
  },
  {
   "cell_type": "code",
   "execution_count": 2,
   "metadata": {},
   "outputs": [],
   "source": [
    "n=2\n",
    "dl=np.around(0.01/n,decimals=5)\n",
    "x0=0.4\n",
    "y0=0.4\n",
    "nx=int(np.rint(1+x0/(dl)))\n",
    "ny=int(np.rint(1+y0/(dl)))\n",
    "x=np.linspace(0,x0,nx)\n",
    "y=np.linspace(0,y0,ny)\n",
    "xx,yy=np.meshgrid(x,y)\n",
    "xx=np.around(xx,decimals=5)\n",
    "yy=np.around(yy,decimals=5)\n",
    "Mx=np.array([xx,yy])\n",
    "lpx=0.12\n",
    "lpy=0.12\n",
    "lcen=0.2\n",
    "l0x=lcen\n",
    "l0y=lcen\n",
    "l1x=np.around(lcen+lpx,decimals=5)\n",
    "l1y=np.around(lcen+lpy,decimals=5)\n",
    "xe1=np.around(x0-dl,decimals=5)\n",
    "ye1=np.around(y0-dl,decimals=5)"
   ]
  },
  {
   "cell_type": "code",
   "execution_count": null,
   "metadata": {},
   "outputs": [],
   "source": []
  },
  {
   "cell_type": "code",
   "execution_count": null,
   "metadata": {},
   "outputs": [],
   "source": []
  },
  {
   "cell_type": "markdown",
   "metadata": {},
   "source": [
    "## Solucion Generacion"
   ]
  },
  {
   "cell_type": "code",
   "execution_count": 3,
   "metadata": {},
   "outputs": [
    {
     "name": "stdout",
     "output_type": "stream",
     "text": [
      "0.0 34.51681395519417\n"
     ]
    }
   ],
   "source": [
    "VsolG=np.zeros(nx*ny)\n",
    "matG=np.zeros((nx*ny,nx*ny))\n",
    "geG=np.zeros((ny,nx))\n",
    "geG[0,:]=1\n",
    "geG[ny-1,:]=2\n",
    "geG[:,0]=3\n",
    "geG[:,nx-1]=4\n",
    "geG[(xx>0.05)&(xx<0.15)&(yy>0.05)&(yy<0.15)]=5\n",
    "geG[0,0]=6\n",
    "geG[ny-1,0]=7\n",
    "geG[0,nx-1]=8\n",
    "geG[ny-1,nx-1]=9\n",
    "geG[(xx>l0x)&(xx<l1x)&(yy>l0y)&(yy<l1y)]=10\n",
    "geG[(xx>=0.05)&(xx<=0.15)&(yy==0.05)]=11\n",
    "geG[(xx>=0.05)&(xx<=0.15)&(yy==0.15)]=12\n",
    "geG[(yy>=0.05)&(yy<=0.15)&(xx==0.05)]=13\n",
    "geG[(yy>=0.05)&(yy<=0.15)&(xx==0.15)]=14\n",
    "\n",
    "for i in range(nx):\n",
    "    for j in range(ny):\n",
    "        ind=j*nx+i\n",
    "        if(geG[j,i]==0):\n",
    "            matG[ind,ind]=-4\n",
    "            matG[ind,ind-1]=matG[ind,ind+1]=matG[ind,ind+nx]=matG[ind,ind-nx]=1\n",
    "        elif(geG[j,i]==1):\n",
    "            matG[ind,ind]=-4\n",
    "            matG[ind,ind-1]=matG[ind,ind+1]=1\n",
    "            matG[ind,ind+nx]=2\n",
    "        elif(geG[j,i]==2):\n",
    "            matG[ind,ind]=1\n",
    "        elif(geG[j,i]==3):\n",
    "            matG[ind,ind]=-4\n",
    "            matG[ind,ind-nx]=matG[ind,ind+nx]=1\n",
    "            matG[ind,ind+1]=2\n",
    "        elif(geG[j,i]==4):\n",
    "            matG[ind,ind]=1\n",
    "        elif(geG[j,i]==5):\n",
    "            matG[ind,ind]=1\n",
    "            VsolG[ind]=0\n",
    "        elif(geG[j,i]==6):\n",
    "            matG[ind,ind]=-2\n",
    "            matG[ind,ind+1]=matG[ind,ind+nx]=1\n",
    "        elif(geG[j,i]==7):\n",
    "            matG[ind,ind]=-2\n",
    "            matG[ind,ind+1]=matG[ind,ind-nx]=1\n",
    "        elif(geG[j,i]==8):\n",
    "            matG[ind,ind]=-2\n",
    "            matG[ind,ind-1]=matG[ind,ind+nx]=1\n",
    "        elif(geG[j,i]==9):\n",
    "            matG[ind,ind]=1\n",
    "        elif(geG[j,i]==10):\n",
    "            matG[ind,ind]=1\n",
    "        elif(geG[j,i]==11):\n",
    "            matG[ind,ind]=-4\n",
    "            matG[ind,ind-1]=matG[ind,ind+1]=1\n",
    "            matG[ind,ind-nx]=2\n",
    "            VsolG[ind]=-1\n",
    "        elif(geG[j,i]==12):\n",
    "            matG[ind,ind]=-4\n",
    "            matG[ind,ind-1]=matG[ind,ind+1]=1\n",
    "            matG[ind,ind+nx]=2\n",
    "            VsolG[ind]=-1\n",
    "        elif(geG[j,i]==13):\n",
    "            matG[ind,ind]=-4\n",
    "            matG[ind,ind-nx]=matG[ind,ind+nx]=1\n",
    "            matG[ind,ind-1]=2\n",
    "            VsolG[ind]=-1\n",
    "        elif(geG[j,i]==14):\n",
    "            matG[ind,ind]=-4\n",
    "            matG[ind,ind-nx]=matG[ind,ind+nx]=1\n",
    "            matG[ind,ind+1]=2\n",
    "            VsolG[ind]=-1\n",
    "            \n",
    "TG=np.linalg.solve(matG,VsolG)\n",
    "TmG = TG.reshape((ny, nx))\n",
    "print(np.min(TmG),np.max(TmG))"
   ]
  },
  {
   "cell_type": "code",
   "execution_count": 4,
   "metadata": {},
   "outputs": [
    {
     "data": {
      "image/png": "[encoded data removed]",
      "text/plain": [
       "<Figure size 432x288 with 2 Axes>"
      ]
     },
     "metadata": {
      "needs_background": "light"
     },
     "output_type": "display_data"
    }
   ],
   "source": [
    "plt.contourf(xx, yy, TmG, 20)\n",
    "plt.title(\"$T^{G}(x,y)$\")\n",
    "plt.xlabel(\"$x\\ (m)$\")\n",
    "plt.ylabel(\"$y\\ (m)$\")\n",
    "plt.plot([0.05,0.15],[0.05,0.05],\"--\",c=\"r\")\n",
    "plt.plot([0.05,0.15],[0.15,0.15],\"--\",c=\"r\")\n",
    "plt.plot([0.05,0.05],[0.05,0.15],\"--\",c=\"r\")\n",
    "plt.plot([0.15,0.15],[0.05,0.15],\"--\",c=\"r\",label=\"Núcleo\")\n",
    "plt.plot([l0x,l0x],[l0y,l1y],\"--\",c=\"k\")\n",
    "plt.plot([l0x,l1x],[l0y,l0y],\"--\",c=\"k\")\n",
    "plt.plot([l0x,l1x],[l1y,l1y],\"--\",c=\"k\")\n",
    "plt.plot([l1x,l1x],[l0y,l1y],\"--\",c=\"k\",label=\"Canal\")\n",
    "plt.legend(loc=(0.2,-0.25),ncol=2)\n",
    "\n",
    "plt.colorbar();"
   ]
  },
  {
   "cell_type": "code",
   "execution_count": null,
   "metadata": {},
   "outputs": [],
   "source": []
  },
  {
   "cell_type": "markdown",
   "metadata": {},
   "source": [
    "## Solucion Refrigeracion"
   ]
  },
  {
   "cell_type": "code",
   "execution_count": 5,
   "metadata": {},
   "outputs": [
    {
     "name": "stdout",
     "output_type": "stream",
     "text": [
      "0.0 1.0000000000000007\n"
     ]
    }
   ],
   "source": [
    "VsolR=np.zeros(nx*ny)\n",
    "matR=np.zeros((nx*ny,nx*ny))\n",
    "geR=np.zeros((ny,nx))\n",
    "geR[0,:]=1\n",
    "geR[ny-1,:]=2\n",
    "geR[:,0]=3\n",
    "geR[:,nx-1]=4\n",
    "geR[(xx>=0.05)&(xx<=0.15)&(yy>=0.05)&(yy<=0.15)]=5\n",
    "geR[0,0]=6\n",
    "geR[ny-1,0]=7\n",
    "geR[0,nx-1]=8\n",
    "geR[ny-1,nx-1]=9\n",
    "geR[(xx>l0x)&(xx<l1x)&(yy>l0y)&(yy<l1y)]=10\n",
    "geR[(xx>=0.05)&(xx<=0.15)&(yy==0.05)]=11\n",
    "geR[(xx>=0.05)&(xx<=0.15)&(yy==0.15)]=12\n",
    "geR[(yy>=0.05)&(yy<=0.15)&(xx==0.05)]=13\n",
    "geR[(yy>=0.05)&(yy<=0.15)&(xx==0.15)]=14\n",
    "\n",
    "for i in range(nx):\n",
    "    for j in range(ny):\n",
    "        ind=j*nx+i\n",
    "        if(geR[j,i]==0):\n",
    "            matR[ind,ind]=-4\n",
    "            matR[ind,ind-1]=matR[ind,ind+1]=matR[ind,ind+nx]=matR[ind,ind-nx]=1\n",
    "        elif(geR[j,i]==1):\n",
    "            matR[ind,ind]=-4\n",
    "            matR[ind,ind-1]=matR[ind,ind+1]=1\n",
    "            matR[ind,ind+nx]=2\n",
    "        elif(geR[j,i]==2):\n",
    "            matR[ind,ind]=1\n",
    "        elif(geR[j,i]==3):\n",
    "            matR[ind,ind]=-4\n",
    "            matR[ind,ind-nx]=matR[ind,ind+nx]=1\n",
    "            matR[ind,ind+1]=2\n",
    "        elif(geR[j,i]==4):\n",
    "            matR[ind,ind]=1\n",
    "        elif(geR[j,i]==5):\n",
    "            matR[ind,ind]=1\n",
    "            VsolR[ind]=0\n",
    "        elif(geR[j,i]==6):\n",
    "            matR[ind,ind]=-2\n",
    "            matR[ind,ind+1]=matR[ind,ind+nx]=1\n",
    "        elif(geR[j,i]==7):\n",
    "            matR[ind,ind]=-2\n",
    "            matR[ind,ind+1]=matR[ind,ind-nx]=1\n",
    "        elif(geR[j,i]==8):\n",
    "            matR[ind,ind]=-2\n",
    "            matR[ind,ind-1]=matR[ind,ind+nx]=1\n",
    "        elif(geR[j,i]==9):\n",
    "            matR[ind,ind]=-2\n",
    "            matR[ind,ind-1]=matR[ind,ind-nx]=1\n",
    "        elif(geR[j,i]==10):\n",
    "            matR[ind,ind]=1\n",
    "            VsolR[ind]=1 \n",
    "        elif(geR[j,i]==11):\n",
    "            matR[ind,ind]=-4\n",
    "            matR[ind,ind-1]=matR[ind,ind+1]=1\n",
    "            matR[ind,ind-nx]=2\n",
    "        elif(geR[j,i]==12):\n",
    "            matR[ind,ind]=-4\n",
    "            matR[ind,ind-1]=matR[ind,ind+1]=1\n",
    "            matR[ind,ind+nx]=2\n",
    "        elif(geR[j,i]==13):\n",
    "            matR[ind,ind]=-4\n",
    "            matR[ind,ind-nx]=matR[ind,ind+nx]=1\n",
    "            matR[ind,ind-1]=2\n",
    "        elif(geR[j,i]==14):\n",
    "            matR[ind,ind]=-4\n",
    "            matR[ind,ind-nx]=matR[ind,ind+nx]=1\n",
    "            matR[ind,ind+1]=2\n",
    "            \n",
    "TR=np.linalg.solve(matR,VsolR)\n",
    "TmR = TR.reshape((ny, nx))\n",
    "print(np.min(TmR),np.max(TmR))"
   ]
  },
  {
   "cell_type": "code",
   "execution_count": 6,
   "metadata": {},
   "outputs": [
    {
     "data": {
      "image/png": "[encoded data removed]",
      "text/plain": [
       "<Figure size 432x288 with 2 Axes>"
      ]
     },
     "metadata": {
      "needs_background": "light"
     },
     "output_type": "display_data"
    }
   ],
   "source": [
    "plt.contourf(xx, yy, TmR, 20)\n",
    "plt.title(\"$T^{R}(x,y)$\")\n",
    "plt.xlabel(\"$x\\ (m)$\")\n",
    "plt.ylabel(\"$y\\ (m)$\")\n",
    "plt.plot([0.05,0.15],[0.05,0.05],\"--\",c=\"r\")\n",
    "plt.plot([0.05,0.15],[0.15,0.15],\"--\",c=\"r\")\n",
    "plt.plot([0.05,0.05],[0.05,0.15],\"--\",c=\"r\")\n",
    "plt.plot([0.15,0.15],[0.05,0.15],\"--\",c=\"r\",label=\"Núcleo\")\n",
    "plt.plot([l0x,l0x],[l0y,l1y],\"--\",c=\"k\")\n",
    "plt.plot([l0x,l1x],[l0y,l0y],\"--\",c=\"k\")\n",
    "plt.plot([l0x,l1x],[l1y,l1y],\"--\",c=\"k\")\n",
    "plt.plot([l1x,l1x],[l0y,l1y],\"--\",c=\"k\",label=\"Canal\")\n",
    "plt.legend(loc=(0.36,-0.22),ncol=2)\n",
    "plt.colorbar();"
   ]
  },
  {
   "cell_type": "code",
   "execution_count": null,
   "metadata": {},
   "outputs": [],
   "source": []
  },
  {
   "cell_type": "markdown",
   "metadata": {},
   "source": [
    "## Solucion Paredes Externas"
   ]
  },
  {
   "cell_type": "code",
   "execution_count": 7,
   "metadata": {},
   "outputs": [
    {
     "name": "stdout",
     "output_type": "stream",
     "text": [
      "0.0 1.0\n"
     ]
    }
   ],
   "source": [
    "VsolE=np.zeros(nx*ny)\n",
    "matE=np.zeros((nx*ny,nx*ny))\n",
    "geE=np.zeros((ny,nx))\n",
    "geE[0,:]=1\n",
    "geE[ny-1,:]=2\n",
    "geE[:,0]=3\n",
    "geE[:,nx-1]=4\n",
    "geE[(xx>=0.05)&(xx<=0.15)&(yy>=0.05)&(yy<=0.15)]=5\n",
    "geE[0,0]=6\n",
    "geE[ny-1,0]=7\n",
    "geE[0,nx-1]=8\n",
    "geE[ny-1,nx-1]=9\n",
    "geE[(xx>l0x)&(xx<l1x)&(yy>l0y)&(yy<l1y)]=10\n",
    "geE[(xx>=0.05)&(xx<=0.15)&(yy==0.05)]=11\n",
    "geE[(xx>=0.05)&(xx<=0.15)&(yy==0.15)]=12\n",
    "geE[(yy>=0.05)&(yy<=0.15)&(xx==0.05)]=13\n",
    "geE[(yy>=0.05)&(yy<=0.15)&(xx==0.15)]=14\n",
    "\n",
    "for i in range(nx):\n",
    "    for j in range(ny):\n",
    "        ind=j*nx+i\n",
    "        if(geE[j,i]==0):\n",
    "            matE[ind,ind]=-4\n",
    "            matE[ind,ind-1]=matE[ind,ind+1]=matE[ind,ind+nx]=matE[ind,ind-nx]=1\n",
    "        elif(geE[j,i]==1):\n",
    "            matE[ind,ind]=-4\n",
    "            matE[ind,ind-1]=matE[ind,ind+1]=1\n",
    "            matE[ind,ind+nx]=2\n",
    "        elif(geE[j,i]==2):\n",
    "            matE[ind,ind]=1\n",
    "            VsolE[ind]=1\n",
    "        elif(geE[j,i]==3):\n",
    "            matE[ind,ind]=-4\n",
    "            matE[ind,ind-nx]=matE[ind,ind+nx]=1\n",
    "            matE[ind,ind+1]=2\n",
    "        elif(geE[j,i]==4):\n",
    "            matE[ind,ind]=1\n",
    "            VsolE[ind]=1        \n",
    "        elif(geE[j,i]==5):\n",
    "            matE[ind,ind]=1\n",
    "            VsolE[ind]=0\n",
    "        elif(geE[j,i]==6):\n",
    "            matE[ind,ind]=-2\n",
    "            matE[ind,ind+1]=matE[ind,ind+nx]=1\n",
    "        elif(geE[j,i]==7):\n",
    "            matE[ind,ind]=1\n",
    "            VsolE[ind]=1\n",
    "        elif(geE[j,i]==8):\n",
    "            matE[ind,ind]=1\n",
    "            VsolE[ind]=1\n",
    "        elif(geE[j,i]==9):\n",
    "            matE[ind,ind]=1\n",
    "            VsolE[ind]=1\n",
    "        elif(geE[j,i]==10):\n",
    "            matE[ind,ind]=1\n",
    "        elif(geE[j,i]==11):\n",
    "            matE[ind,ind]=-4\n",
    "            matE[ind,ind-1]=matE[ind,ind+1]=1\n",
    "            matE[ind,ind-nx]=2\n",
    "        elif(geE[j,i]==12):\n",
    "            matE[ind,ind]=-4\n",
    "            matE[ind,ind-1]=matE[ind,ind+1]=1\n",
    "            matE[ind,ind+nx]=2\n",
    "        elif(geE[j,i]==13):\n",
    "            matE[ind,ind]=-4\n",
    "            matE[ind,ind-nx]=matE[ind,ind+nx]=1\n",
    "            matE[ind,ind-1]=2\n",
    "        elif(geE[j,i]==14):\n",
    "            matE[ind,ind]=-4\n",
    "            matE[ind,ind-nx]=matE[ind,ind+nx]=1\n",
    "            matE[ind,ind+1]=2\n",
    "            \n",
    "TE=np.linalg.solve(matE,VsolE)\n",
    "TmE = TE.reshape((ny, nx))\n",
    "TmE[(xx>=l0x)&(xx<=l1x)&(yy>=l0y)&(yy<=l1y)]=0\n",
    "print(np.min(TmE),np.max(TmE))"
   ]
  },
  {
   "cell_type": "code",
   "execution_count": 8,
   "metadata": {},
   "outputs": [
    {
     "data": {
      "image/png": "[encoded data removed]",
      "text/plain": [
       "<Figure size 432x288 with 2 Axes>"
      ]
     },
     "metadata": {
      "needs_background": "light"
     },
     "output_type": "display_data"
    }
   ],
   "source": [
    "plt.contourf(xx, yy, TmE, 20)\n",
    "plt.title(\"$T^{E}(x,y)$\")\n",
    "plt.xlabel(\"$x\\ (m)$\")\n",
    "plt.ylabel(\"$y\\ (m)$\")\n",
    "plt.plot([0.05,0.15],[0.05,0.05],\"--\",c=\"r\")\n",
    "plt.plot([0.05,0.15],[0.15,0.15],\"--\",c=\"r\")\n",
    "plt.plot([0.05,0.05],[0.05,0.15],\"--\",c=\"r\")\n",
    "plt.plot([0.15,0.15],[0.05,0.15],\"--\",c=\"r\",label=\"Núcleo\")\n",
    "plt.plot([l0x,l0x],[l0y,l1y],\"--\",c=\"k\")\n",
    "plt.plot([l0x,l1x],[l0y,l0y],\"--\",c=\"k\")\n",
    "plt.plot([l0x,l1x],[l1y,l1y],\"--\",c=\"k\")\n",
    "plt.plot([l1x,l1x],[l0y,l1y],\"--\",c=\"k\",label=\"Canal\")\n",
    "plt.legend(loc=(0.2,-0.22),ncol=2)\n",
    "plt.colorbar();"
   ]
  },
  {
   "cell_type": "code",
   "execution_count": null,
   "metadata": {},
   "outputs": [],
   "source": []
  },
  {
   "cell_type": "markdown",
   "metadata": {},
   "source": [
    "## Solucion Problema"
   ]
  },
  {
   "cell_type": "code",
   "execution_count": 9,
   "metadata": {},
   "outputs": [],
   "source": [
    "k=100"
   ]
  },
  {
   "cell_type": "code",
   "execution_count": 10,
   "metadata": {},
   "outputs": [],
   "source": [
    "keg=(-np.mean(TmG[(yy==y0)]-TmG[(yy==ye1)])-np.mean(TmG[(yy==x0)]-TmG[(yy==xe1)]))*k\n",
    "\n",
    "krg=(-np.mean(TmG[(xx>=l0x)&(xx<=l1x)&(yy==l0y)]-TmG[(xx>=l0x)&(xx<=l1x)&(yy==np.around(l0y-dl))])-np.mean(TmG[(xx>=l0x)&(xx<=l1x)&(yy==l1y)]-TmG[(xx>=l1x)&(xx<=l1x)&(yy==np.around(l1y+dl,decimals=5))])-np.mean(TmG[(yy>=l0y)&(yy<=l1y)&(xx==l0x)]-TmG[(yy>=l0y)&(yy<=l1y)&(xx==np.around(l0x-dl,decimals=5))])-np.mean(TmG[(yy>=l0y)&(yy<=l1y)&(xx==l1x)]-TmG[(yy>=l0y)&(yy<=l1y)&(xx==np.around(l1x+dl,decimals=5))]))*k"
   ]
  },
  {
   "cell_type": "code",
   "execution_count": 11,
   "metadata": {},
   "outputs": [],
   "source": [
    "ker=(-np.mean(TmR[(yy==y0)]-TmR[(yy==ye1)])-np.mean(TmR[(yy==x0)]-TmR[(yy==xe1)]))*k\n",
    "\n",
    "krr=(-np.mean(TmR[(xx>=l0x)&(xx<=l1x)&(yy==l0y)]-TmR[(xx>=l0x)&(xx<=l1x)&(yy==np.around(l0y-dl,decimals=5))])-np.mean(TmR[(xx>=l0x)&(xx<=l1x)&(yy==l1y)]-TmR[(xx>=l1x)&(xx<=l1x)&(yy==np.around(l1y+dl,decimals=5))])-np.mean(TmR[(yy>=l0y)&(yy<=l1y)&(xx==l0x)]-TmR[(yy>=l0y)&(yy<=l1y)&(xx==np.around(l0x-dl,decimals=5))])-np.mean(TmR[(yy>=l0y)&(yy<=l1y)&(xx==l1x)]-TmR[(yy>=l0y)&(yy<=l1y)&(xx==np.around(l1x+dl,decimals=5))]))*k"
   ]
  },
  {
   "cell_type": "code",
   "execution_count": 12,
   "metadata": {},
   "outputs": [],
   "source": [
    "kee=(-np.mean(TmE[(yy==y0)]-TmE[(yy==ye1)])-np.mean(TmE[(yy==x0)]-TmE[(yy==xe1)]))*k\n",
    "\n",
    "kre=(-np.mean(TmE[(xx>=l0x)&(xx<=l1x)&(yy==l0y)]-TmE[(xx>=l0x)&(xx<=l1x)&(yy==np.around(l0y-dl,decimals=5))])-np.mean(TmE[(xx>=l0x)&(xx<=l1x)&(yy==l1y)]-TmE[(xx>=l1x)&(xx<=l1x)&(yy==np.around(l1y+dl,decimals=5))])-np.mean(TmE[(yy>=l0y)&(yy<=l1y)&(xx==l0x)]-TmE[(yy>=l0y)&(yy<=l1y)&(xx==np.around(l0x-dl,decimals=5))])-np.mean(TmE[(yy>=l0y)&(yy<=l1y)&(xx==l1x)]-TmE[(yy>=l0y)&(yy<=l1y)&(xx==np.around(l1x+dl,decimals=5))]))*k"
   ]
  },
  {
   "cell_type": "code",
   "execution_count": 13,
   "metadata": {},
   "outputs": [
    {
     "name": "stdout",
     "output_type": "stream",
     "text": [
      "20.74357608400445\n",
      "896.1410747240624\n",
      "6.670730260562189\n",
      "-33.45428826917271\n",
      "-6.680207910609187\n",
      "59.865720035569495\n"
     ]
    }
   ],
   "source": [
    "print(keg)\n",
    "print(krg)\n",
    "print(ker)\n",
    "print(krr)\n",
    "print(kee)\n",
    "print(kre)"
   ]
  },
  {
   "cell_type": "code",
   "execution_count": 14,
   "metadata": {},
   "outputs": [],
   "source": [
    "pr=2*(lpx+lpy)\n",
    "rho=997\n",
    "cp=4179.6\n",
    "v=0.008\n",
    "Q=v*lpx*lpy\n",
    "Qg=50000*2*dl/k\n",
    "\n",
    "pe=0.8\n",
    "Tinf=25\n",
    "T0=40"
   ]
  },
  {
   "cell_type": "code",
   "execution_count": 15,
   "metadata": {},
   "outputs": [
    {
     "data": {
      "text/plain": [
       "9.074354252865609"
      ]
     },
     "execution_count": 15,
     "metadata": {},
     "output_type": "execute_result"
    }
   ],
   "source": [
    "#he:\n",
    "ve=10\n",
    "Pre=0.707\n",
    "nu=18.37*np.power(0.1,6)\n",
    "Ree=ve*x0/nu\n",
    "ke=0.0263\n",
    "he=0.332*np.power(Ree,1/2)*np.power(Pre,1/3)*ke/x0\n",
    "he"
   ]
  },
  {
   "cell_type": "code",
   "execution_count": 16,
   "metadata": {},
   "outputs": [
    {
     "data": {
      "text/plain": [
       "106.11159950646054"
      ]
     },
     "execution_count": 16,
     "metadata": {},
     "output_type": "execute_result"
    }
   ],
   "source": [
    "#hr:\n",
    "kr=0.630\n",
    "dh=(4*lpx*lpy)/pr\n",
    "Prr=4\n",
    "nur=0.6527*np.power(0.1,6)\n",
    "Rer=v*dh/nur\n",
    "hr=0.332*np.power(Rer,1/2)*np.power(Prr,1/3)*kr/dh\n",
    "hr"
   ]
  },
  {
   "cell_type": "code",
   "execution_count": null,
   "metadata": {},
   "outputs": [],
   "source": []
  },
  {
   "cell_type": "code",
   "execution_count": null,
   "metadata": {},
   "outputs": [],
   "source": []
  },
  {
   "cell_type": "code",
   "execution_count": 17,
   "metadata": {},
   "outputs": [],
   "source": [
    "ca1=hr*pr/(rho*cp*Q)\n",
    "ca2=(hr*pr-krr-(kre*ker/(he*pe-kee)))\n",
    "c1=(ca1/ca2)*(krg*Qg+kre*(keg*Qg+he*pe*Tinf)/(he*pe-kee))\n",
    "c2=ca1*((hr*pr/ca2)-1)"
   ]
  },
  {
   "cell_type": "code",
   "execution_count": 18,
   "metadata": {},
   "outputs": [
    {
     "name": "stdout",
     "output_type": "stream",
     "text": [
      "10.860648982088087\n",
      "-0.009148359921863606\n"
     ]
    }
   ],
   "source": [
    "print(c1)\n",
    "print(c2)"
   ]
  },
  {
   "cell_type": "code",
   "execution_count": null,
   "metadata": {},
   "outputs": [],
   "source": []
  },
  {
   "cell_type": "code",
   "execution_count": null,
   "metadata": {},
   "outputs": [],
   "source": []
  },
  {
   "cell_type": "code",
   "execution_count": 19,
   "metadata": {},
   "outputs": [],
   "source": [
    "from scipy.integrate import odeint\n",
    "\n",
    "# function that returns dy/dt\n",
    "def model(T,z):\n",
    "    dTdz = c1+c2*T\n",
    "    return dTdz\n",
    "\n",
    "z = np.linspace(0,1,num=101, endpoint=True)\n",
    "\n",
    "Tmedz = odeint(model,T0,z)"
   ]
  },
  {
   "cell_type": "code",
   "execution_count": 20,
   "metadata": {},
   "outputs": [],
   "source": [
    "Trz=(krg*Qg+hr*pr*Tmedz+kre*((keg*Qg+he*pe*Tinf)/(he*pe-kee)))/(hr*pr-krr-(kre*ker/(he*pe-kee)))"
   ]
  },
  {
   "cell_type": "code",
   "execution_count": 21,
   "metadata": {},
   "outputs": [],
   "source": [
    "Tez=(keg*Qg+he*pe*Tinf+ker*Trz)/(he*pe-kee)"
   ]
  },
  {
   "cell_type": "code",
   "execution_count": 22,
   "metadata": {},
   "outputs": [],
   "source": [
    "Qgz=Qg    #revisar"
   ]
  },
  {
   "cell_type": "code",
   "execution_count": 23,
   "metadata": {},
   "outputs": [],
   "source": [
    "Tfin=np.zeros((np.size(z),ny,nx))\n",
    "Tgraf=np.zeros((np.size(z),ny,nx))\n",
    "Tmax=np.zeros(np.size(z))"
   ]
  },
  {
   "cell_type": "code",
   "execution_count": 24,
   "metadata": {},
   "outputs": [],
   "source": [
    "for i in range((np.size(z))):\n",
    "    Ttemp=Qgz*TmG+Trz[i]*TmR+Tez[i]*TmE\n",
    "    Ttemp[(xx>l0x)&(xx<l1x)&(yy>l0y)&(yy<l1y)]=Tmedz[i]\n",
    "    Tfin[i,:,:]=Ttemp\n",
    "    Ttemp[(xx>0.05)&(xx<0.15)&(yy>0.05)&(yy<0.15)]=np.nan\n",
    "    Tgraf[i,:,:]=Ttemp\n",
    "    Tmax[i]=np.max(Tfin[i,:,:])"
   ]
  },
  {
   "cell_type": "code",
   "execution_count": 25,
   "metadata": {},
   "outputs": [
    {
     "data": {
      "image/png": "[encoded data removed]",
      "text/plain": [
       "<Figure size 432x288 with 2 Axes>"
      ]
     },
     "metadata": {
      "needs_background": "light"
     },
     "output_type": "display_data"
    }
   ],
   "source": [
    "plt.contourf(xx, yy, Tgraf[0,:,:], 20)\n",
    "plt.title(\"$T(x,y,z=0)$\")\n",
    "plt.xlabel(\"x\")\n",
    "plt.ylabel(\"y\")\n",
    "plt.plot([0.05,0.15],[0.05,0.05],\"--\",c=\"r\")\n",
    "plt.plot([0.05,0.15],[0.15,0.15],\"--\",c=\"r\")\n",
    "plt.plot([0.05,0.05],[0.05,0.15],\"--\",c=\"r\")\n",
    "plt.plot([0.15,0.15],[0.05,0.15],\"--\",c=\"r\",label=\"Núcleo\")\n",
    "plt.plot([l0x,l0x],[l0y,l1y],\"--\",c=\"k\")\n",
    "plt.plot([l0x,l1x],[l0y,l0y],\"--\",c=\"k\")\n",
    "plt.plot([l0x,l1x],[l1y,l1y],\"--\",c=\"k\")\n",
    "plt.plot([l1x,l1x],[l0y,l1y],\"--\",c=\"k\",label=\"Canal\")\n",
    "plt.legend(loc=(0.2,-0.22),ncol=2)\n",
    "plt.colorbar();"
   ]
  },
  {
   "cell_type": "code",
   "execution_count": 26,
   "metadata": {},
   "outputs": [
    {
     "name": "stdout",
     "output_type": "stream",
     "text": [
      "T maxima de cuerpo:   296.359492283672\n",
      "\n",
      "T maxima de fluido:   50.44685590776462\n",
      "\n"
     ]
    },
    {
     "data": {
      "image/png": "[encoded data removed]",
      "text/plain": [
       "<Figure size 432x288 with 1 Axes>"
      ]
     },
     "metadata": {
      "needs_background": "light"
     },
     "output_type": "display_data"
    },
    {
     "name": "stdout",
     "output_type": "stream",
     "text": [
      "\n",
      "Caudal de fluido:   0.0001152\n",
      "\n",
      "Reynolds de fluido:   1470.8135437413814\n",
      "\n"
     ]
    }
   ],
   "source": [
    "print(\"T maxima de cuerpo:   \"+str(np.max(Tmax)))\n",
    "print(\"\")\n",
    "print(\"T maxima de fluido:   \"+str(np.max(Tmedz)))\n",
    "print(\"\")\n",
    "# plot results\n",
    "plt.plot(z,Tmedz)\n",
    "plt.title(\"$Desarrollo\\ de\\ \\overline{T}(z)$\")\n",
    "plt.xlabel('$z\\ (m)$')\n",
    "plt.ylabel('$\\overline{T}(z) (K)$')\n",
    "plt.show()\n",
    "\n",
    "print(\"\")\n",
    "print(\"Caudal de fluido:   \"+str(Q))\n",
    "print(\"\")\n",
    "print(\"Reynolds de fluido:   \"+str(Rer))\n",
    "print(\"\")"
   ]
  },
  {
   "cell_type": "code",
   "execution_count": null,
   "metadata": {},
   "outputs": [],
   "source": []
  },
  {
   "cell_type": "code",
   "execution_count": null,
   "metadata": {},
   "outputs": [],
   "source": []
  },
  {
   "cell_type": "code",
   "execution_count": null,
   "metadata": {},
   "outputs": [],
   "source": []
  }
 ],
 "metadata": {
  "kernelspec": {
   "display_name": "Python 3",
   "language": "python",
   "name": "python3"
  },
  "language_info": {
   "codemirror_mode": {
    "name": "ipython",
    "version": 3
   },
   "file_extension": ".py",
   "mimetype": "text/x-python",
   "name": "python",
   "nbconvert_exporter": "python",
   "pygments_lexer": "ipython3",
   "version": "3.6.7"
  }
 },
 "nbformat": 4,
 "nbformat_minor": 2
}
