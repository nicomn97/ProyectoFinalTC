{
 "cells": [
  {
   "cell_type": "code",
   "execution_count": 2,
   "metadata": {},
   "outputs": [],
   "source": [
    "import numpy as np\n",
    "import matplotlib.pyplot as plt"
   ]
  },
  {
   "cell_type": "code",
   "execution_count": null,
   "metadata": {},
   "outputs": [],
   "source": []
  },
  {
   "cell_type": "code",
   "execution_count": 3,
   "metadata": {},
   "outputs": [],
   "source": [
    "n=1\n",
    "dl=np.around(0.01/n,decimals=5)\n",
    "x0=0.4\n",
    "y0=0.4\n",
    "nx=int(np.rint(1+x0/(dl)))\n",
    "ny=int(np.rint(1+y0/(dl)))\n",
    "x=np.linspace(0,x0,nx)\n",
    "y=np.linspace(0,y0,ny)\n",
    "xx,yy=np.meshgrid(x,y)\n",
    "xx=np.around(xx,decimals=5)\n",
    "yy=np.around(yy,decimals=5)\n",
    "Mx=np.array([xx,yy])\n",
    "lpx=0.12\n",
    "lpy=0.12\n",
    "lcen=0.18\n",
    "l0x=lcen\n",
    "l0y=lcen\n",
    "l1x=lcen+lpx\n",
    "l1y=lcen+lpy\n",
    "xe1=np.around(x0-dl,decimals=5)\n",
    "ye1=np.around(y0-dl,decimals=5)"
   ]
  },
  {
   "cell_type": "code",
   "execution_count": null,
   "metadata": {},
   "outputs": [],
   "source": []
  },
  {
   "cell_type": "markdown",
   "metadata": {},
   "source": [
    "## Solucion Generacion"
   ]
  },
  {
   "cell_type": "code",
   "execution_count": 4,
   "metadata": {},
   "outputs": [
    {
     "name": "stdout",
     "output_type": "stream",
     "text": [
      "0.0 16.483041341118057\n"
     ]
    }
   ],
   "source": [
    "VsolG=np.zeros(nx*ny)\n",
    "matG=np.zeros((nx*ny,nx*ny))\n",
    "geG=np.zeros((ny,nx))\n",
    "geG[0,:]=1\n",
    "geG[ny-1,:]=2\n",
    "geG[:,0]=3\n",
    "geG[:,nx-1]=4\n",
    "geG[(xx>0.05)&(xx<0.15)&(yy>0.05)&(yy<0.15)]=5\n",
    "geG[0,0]=6\n",
    "geG[ny-1,0]=7\n",
    "geG[0,nx-1]=8\n",
    "geG[ny-1,nx-1]=9\n",
    "geG[(xx>=l0x)&(xx<=l1x)&(yy>=l0y)&(yy<=l1y)]=10\n",
    "geG[(xx>=0.05)&(xx<=0.15)&(yy==0.05)]=11\n",
    "geG[(xx>=0.05)&(xx<=0.15)&(yy==0.15)]=12\n",
    "geG[(yy>=0.05)&(yy<=0.15)&(xx==0.05)]=13\n",
    "geG[(yy>=0.05)&(yy<=0.15)&(xx==0.15)]=14\n",
    "\n",
    "for i in range(nx):\n",
    "    for j in range(ny):\n",
    "        ind=j*nx+i\n",
    "        if(geG[j,i]==0):\n",
    "            matG[ind,ind]=-4\n",
    "            matG[ind,ind-1]=matG[ind,ind+1]=matG[ind,ind+nx]=matG[ind,ind-nx]=1\n",
    "        elif(geG[j,i]==1):\n",
    "            matG[ind,ind]=-4\n",
    "            matG[ind,ind-1]=matG[ind,ind+1]=1\n",
    "            matG[ind,ind+nx]=2\n",
    "        elif(geG[j,i]==2):\n",
    "            matG[ind,ind]=1\n",
    "        elif(geG[j,i]==3):\n",
    "            matG[ind,ind]=-4\n",
    "            matG[ind,ind-nx]=matG[ind,ind+nx]=1\n",
    "            matG[ind,ind+1]=2\n",
    "        elif(geG[j,i]==4):\n",
    "            matG[ind,ind]=1\n",
    "        elif(geG[j,i]==5):\n",
    "            matG[ind,ind]=1\n",
    "            VsolG[ind]=0\n",
    "        elif(geG[j,i]==6):\n",
    "            matG[ind,ind]=-2\n",
    "            matG[ind,ind+1]=matG[ind,ind+nx]=1\n",
    "        elif(geG[j,i]==7):\n",
    "            matG[ind,ind]=-2\n",
    "            matG[ind,ind+1]=matG[ind,ind-nx]=1\n",
    "        elif(geG[j,i]==8):\n",
    "            matG[ind,ind]=-2\n",
    "            matG[ind,ind-1]=matG[ind,ind+nx]=1\n",
    "        elif(geG[j,i]==9):\n",
    "            matG[ind,ind]=1\n",
    "        elif(geG[j,i]==10):\n",
    "            matG[ind,ind]=1\n",
    "        elif(geG[j,i]==11):\n",
    "            matG[ind,ind]=-4\n",
    "            matG[ind,ind-1]=matG[ind,ind+1]=1\n",
    "            matG[ind,ind-nx]=2\n",
    "            VsolG[ind]=-1\n",
    "        elif(geG[j,i]==12):\n",
    "            matG[ind,ind]=-4\n",
    "            matG[ind,ind-1]=matG[ind,ind+1]=1\n",
    "            matG[ind,ind+nx]=2\n",
    "            VsolG[ind]=-1\n",
    "        elif(geG[j,i]==13):\n",
    "            matG[ind,ind]=-4\n",
    "            matG[ind,ind-nx]=matG[ind,ind+nx]=1\n",
    "            matG[ind,ind-1]=2\n",
    "            VsolG[ind]=-1\n",
    "        elif(geG[j,i]==14):\n",
    "            matG[ind,ind]=-4\n",
    "            matG[ind,ind-nx]=matG[ind,ind+nx]=1\n",
    "            matG[ind,ind+1]=2\n",
    "            VsolG[ind]=-1\n",
    "            \n",
    "TG=np.linalg.solve(matG,VsolG)\n",
    "TmG = TG.reshape((ny, nx))\n",
    "print(np.min(TmG),np.max(TmG))"
   ]
  },
  {
   "cell_type": "code",
   "execution_count": 5,
   "metadata": {},
   "outputs": [
    {
     "data": {
      "image/png": "[encoded data removed]",
      "text/plain": [
       "<Figure size 432x288 with 2 Axes>"
      ]
     },
     "metadata": {
      "needs_background": "light"
     },
     "output_type": "display_data"
    }
   ],
   "source": [
    "plt.contourf(xx, yy, TmG, 20)\n",
    "plt.plot([0.05,0.15],[0.05,0.05],\"--\",c=\"r\")\n",
    "plt.plot([0.05,0.15],[0.15,0.15],\"--\",c=\"r\")\n",
    "plt.plot([0.05,0.05],[0.05,0.15],\"--\",c=\"r\")\n",
    "plt.plot([0.15,0.15],[0.05,0.15],\"--\",c=\"r\",label=\"Núcleo\")\n",
    "plt.plot([l0x,l0x],[l0y,l1y],\"--\",c=\"k\")\n",
    "plt.plot([l0x,l1x],[l0y,l0y],\"--\",c=\"k\")\n",
    "plt.plot([l0x,l1x],[l1y,l1y],\"--\",c=\"k\")\n",
    "plt.plot([l1x,l1x],[l0y,l1y],\"--\",c=\"k\",label=\"Canal\")\n",
    "plt.legend(loc=(0.2,-0.22),ncol=2)\n",
    "\n",
    "plt.colorbar();"
   ]
  },
  {
   "cell_type": "code",
   "execution_count": null,
   "metadata": {},
   "outputs": [],
   "source": []
  },
  {
   "cell_type": "markdown",
   "metadata": {},
   "source": [
    "## Solucion Refrigeracion"
   ]
  },
  {
   "cell_type": "code",
   "execution_count": 6,
   "metadata": {},
   "outputs": [
    {
     "name": "stdout",
     "output_type": "stream",
     "text": [
      "0.0 1.0000000000000002\n"
     ]
    }
   ],
   "source": [
    "VsolR=np.zeros(nx*ny)\n",
    "matR=np.zeros((nx*ny,nx*ny))\n",
    "geR=np.zeros((ny,nx))\n",
    "geR[0,:]=1\n",
    "geR[ny-1,:]=2\n",
    "geR[:,0]=3\n",
    "geR[:,nx-1]=4\n",
    "geR[(xx>=0.05)&(xx<=0.15)&(yy>=0.05)&(yy<=0.15)]=5\n",
    "geR[0,0]=6\n",
    "geR[ny-1,0]=7\n",
    "geR[0,nx-1]=8\n",
    "geR[ny-1,nx-1]=9\n",
    "geR[(xx>=l0x)&(xx<=l1x)&(yy>=l0y)&(yy<=l1y)]=10\n",
    "geR[(xx>=l0x)&(xx<=l1x)&(yy>=l0y)&(yy<=l1y)]=10\n",
    "geR[(xx>=0.05)&(xx<=0.15)&(yy==0.05)]=11\n",
    "geR[(xx>=0.05)&(xx<=0.15)&(yy==0.15)]=12\n",
    "geR[(yy>=0.05)&(yy<=0.15)&(xx==0.05)]=13\n",
    "geR[(yy>=0.05)&(yy<=0.15)&(xx==0.15)]=14\n",
    "\n",
    "for i in range(nx):\n",
    "    for j in range(ny):\n",
    "        ind=j*nx+i\n",
    "        if(geR[j,i]==0):\n",
    "            matR[ind,ind]=-4\n",
    "            matR[ind,ind-1]=matR[ind,ind+1]=matR[ind,ind+nx]=matR[ind,ind-nx]=1\n",
    "        elif(geR[j,i]==1):\n",
    "            matR[ind,ind]=-4\n",
    "            matR[ind,ind-1]=matR[ind,ind+1]=1\n",
    "            matR[ind,ind+nx]=2\n",
    "        elif(geR[j,i]==2):\n",
    "            matR[ind,ind]=1\n",
    "        elif(geR[j,i]==3):\n",
    "            matR[ind,ind]=-4\n",
    "            matR[ind,ind-nx]=matR[ind,ind+nx]=1\n",
    "            matR[ind,ind+1]=2\n",
    "        elif(geR[j,i]==4):\n",
    "            matR[ind,ind]=1\n",
    "        elif(geR[j,i]==5):\n",
    "            matR[ind,ind]=1\n",
    "            VsolR[ind]=0\n",
    "        elif(geR[j,i]==6):\n",
    "            matR[ind,ind]=-2\n",
    "            matR[ind,ind+1]=matR[ind,ind+nx]=1\n",
    "        elif(geR[j,i]==7):\n",
    "            matR[ind,ind]=-2\n",
    "            matR[ind,ind+1]=matR[ind,ind-nx]=1\n",
    "        elif(geR[j,i]==8):\n",
    "            matR[ind,ind]=-2\n",
    "            matR[ind,ind-1]=matR[ind,ind+nx]=1\n",
    "        elif(geR[j,i]==9):\n",
    "            matR[ind,ind]=-2\n",
    "            matR[ind,ind-1]=matR[ind,ind-nx]=1\n",
    "        elif(geR[j,i]==10):\n",
    "            matR[ind,ind]=1\n",
    "            VsolR[ind]=1 \n",
    "        elif(geR[j,i]==11):\n",
    "            matR[ind,ind]=-4\n",
    "            matR[ind,ind-1]=matR[ind,ind+1]=1\n",
    "            matR[ind,ind-nx]=2\n",
    "        elif(geR[j,i]==12):\n",
    "            matR[ind,ind]=-4\n",
    "            matR[ind,ind-1]=matR[ind,ind+1]=1\n",
    "            matR[ind,ind+nx]=2\n",
    "        elif(geR[j,i]==13):\n",
    "            matR[ind,ind]=-4\n",
    "            matR[ind,ind-nx]=matR[ind,ind+nx]=1\n",
    "            matR[ind,ind-1]=2\n",
    "        elif(geR[j,i]==14):\n",
    "            matR[ind,ind]=-4\n",
    "            matR[ind,ind-nx]=matR[ind,ind+nx]=1\n",
    "            matR[ind,ind+1]=2\n",
    "            \n",
    "TR=np.linalg.solve(matR,VsolR)\n",
    "TmR = TR.reshape((ny, nx))\n",
    "print(np.min(TmR),np.max(TmR))"
   ]
  },
  {
   "cell_type": "code",
   "execution_count": 7,
   "metadata": {},
   "outputs": [
    {
     "data": {
      "image/png": "[encoded data removed]",
      "text/plain": [
       "<Figure size 432x288 with 2 Axes>"
      ]
     },
     "metadata": {
      "needs_background": "light"
     },
     "output_type": "display_data"
    }
   ],
   "source": [
    "plt.contourf(xx, yy, TmR, 20)\n",
    "plt.plot([0.05,0.15],[0.05,0.05],\"--\",c=\"r\")\n",
    "plt.plot([0.05,0.15],[0.15,0.15],\"--\",c=\"r\")\n",
    "plt.plot([0.05,0.05],[0.05,0.15],\"--\",c=\"r\")\n",
    "plt.plot([0.15,0.15],[0.05,0.15],\"--\",c=\"r\",label=\"Núcleo\")\n",
    "plt.plot([l0x,l0x],[l0y,l1y],\"--\",c=\"k\")\n",
    "plt.plot([l0x,l1x],[l0y,l0y],\"--\",c=\"k\")\n",
    "plt.plot([l0x,l1x],[l1y,l1y],\"--\",c=\"k\")\n",
    "plt.plot([l1x,l1x],[l0y,l1y],\"--\",c=\"k\",label=\"Canal\")\n",
    "plt.legend(loc=(0.36,-0.22),ncol=2)\n",
    "plt.colorbar();"
   ]
  },
  {
   "cell_type": "code",
   "execution_count": null,
   "metadata": {},
   "outputs": [],
   "source": []
  },
  {
   "cell_type": "markdown",
   "metadata": {},
   "source": [
    "## Solucion Paredes Externas"
   ]
  },
  {
   "cell_type": "code",
   "execution_count": 8,
   "metadata": {},
   "outputs": [
    {
     "name": "stdout",
     "output_type": "stream",
     "text": [
      "0.0 1.0\n"
     ]
    }
   ],
   "source": [
    "VsolE=np.zeros(nx*ny)\n",
    "matE=np.zeros((nx*ny,nx*ny))\n",
    "geE=np.zeros((ny,nx))\n",
    "geE[0,:]=1\n",
    "geE[ny-1,:]=2\n",
    "geE[:,0]=3\n",
    "geE[:,nx-1]=4\n",
    "geE[(xx>=0.05)&(xx<=0.15)&(yy>=0.05)&(yy<=0.15)]=5\n",
    "geE[0,0]=6\n",
    "geE[ny-1,0]=7\n",
    "geE[0,nx-1]=8\n",
    "geE[ny-1,nx-1]=9\n",
    "geE[(xx>=l0x)&(xx<=l1x)&(yy>=l0y)&(yy<=l1y)]=10\n",
    "geE[(xx>=0.05)&(xx<=0.15)&(yy==0.05)]=11\n",
    "geE[(xx>=0.05)&(xx<=0.15)&(yy==0.15)]=12\n",
    "geE[(yy>=0.05)&(yy<=0.15)&(xx==0.05)]=13\n",
    "geE[(yy>=0.05)&(yy<=0.15)&(xx==0.15)]=14\n",
    "\n",
    "for i in range(nx):\n",
    "    for j in range(ny):\n",
    "        ind=j*nx+i\n",
    "        if(geE[j,i]==0):\n",
    "            matE[ind,ind]=-4\n",
    "            matE[ind,ind-1]=matE[ind,ind+1]=matE[ind,ind+nx]=matE[ind,ind-nx]=1\n",
    "        elif(geE[j,i]==1):\n",
    "            matE[ind,ind]=-4\n",
    "            matE[ind,ind-1]=matE[ind,ind+1]=1\n",
    "            matE[ind,ind+nx]=2\n",
    "        elif(geE[j,i]==2):\n",
    "            matE[ind,ind]=1\n",
    "            VsolE[ind]=1\n",
    "        elif(geE[j,i]==3):\n",
    "            matE[ind,ind]=-4\n",
    "            matE[ind,ind-nx]=matE[ind,ind+nx]=1\n",
    "            matE[ind,ind+1]=2\n",
    "        elif(geE[j,i]==4):\n",
    "            matE[ind,ind]=1\n",
    "            VsolE[ind]=1        \n",
    "        elif(geE[j,i]==5):\n",
    "            matE[ind,ind]=1\n",
    "            VsolE[ind]=0\n",
    "        elif(geE[j,i]==6):\n",
    "            matE[ind,ind]=-2\n",
    "            matE[ind,ind+1]=matE[ind,ind+nx]=1\n",
    "        elif(geE[j,i]==7):\n",
    "            matE[ind,ind]=1\n",
    "            VsolE[ind]=1\n",
    "        elif(geE[j,i]==8):\n",
    "            matE[ind,ind]=1\n",
    "            VsolE[ind]=1\n",
    "        elif(geE[j,i]==9):\n",
    "            matE[ind,ind]=1\n",
    "            VsolE[ind]=1\n",
    "        elif(geE[j,i]==10):\n",
    "            matE[ind,ind]=1\n",
    "        elif(geE[j,i]==11):\n",
    "            matE[ind,ind]=-4\n",
    "            matE[ind,ind-1]=matE[ind,ind+1]=1\n",
    "            matE[ind,ind-nx]=2\n",
    "        elif(geE[j,i]==12):\n",
    "            matE[ind,ind]=-4\n",
    "            matE[ind,ind-1]=matE[ind,ind+1]=1\n",
    "            matE[ind,ind+nx]=2\n",
    "        elif(geE[j,i]==13):\n",
    "            matE[ind,ind]=-4\n",
    "            matE[ind,ind-nx]=matE[ind,ind+nx]=1\n",
    "            matE[ind,ind-1]=2\n",
    "        elif(geE[j,i]==14):\n",
    "            matE[ind,ind]=-4\n",
    "            matE[ind,ind-nx]=matE[ind,ind+nx]=1\n",
    "            matE[ind,ind+1]=2\n",
    "            \n",
    "TE=np.linalg.solve(matE,VsolE)\n",
    "TmE = TE.reshape((ny, nx))\n",
    "TmE[(xx>=l0x)&(xx<=l1x)&(yy>=l0y)&(yy<=l1y)]=0\n",
    "print(np.min(TmE),np.max(TmE))"
   ]
  },
  {
   "cell_type": "code",
   "execution_count": 9,
   "metadata": {},
   "outputs": [
    {
     "data": {
      "image/png": "[encoded data removed]",
      "text/plain": [
       "<Figure size 432x288 with 2 Axes>"
      ]
     },
     "metadata": {
      "needs_background": "light"
     },
     "output_type": "display_data"
    }
   ],
   "source": [
    "plt.contourf(xx, yy, TmE, 20)\n",
    "plt.plot([0.05,0.15],[0.05,0.05],\"--\",c=\"r\")\n",
    "plt.plot([0.05,0.15],[0.15,0.15],\"--\",c=\"r\")\n",
    "plt.plot([0.05,0.05],[0.05,0.15],\"--\",c=\"r\")\n",
    "plt.plot([0.15,0.15],[0.05,0.15],\"--\",c=\"r\",label=\"Núcleo\")\n",
    "plt.plot([l0x,l0x],[l0y,l1y],\"--\",c=\"k\")\n",
    "plt.plot([l0x,l1x],[l0y,l0y],\"--\",c=\"k\")\n",
    "plt.plot([l0x,l1x],[l1y,l1y],\"--\",c=\"k\")\n",
    "plt.plot([l1x,l1x],[l0y,l1y],\"--\",c=\"k\",label=\"Canal\")\n",
    "plt.legend(loc=(0.2,-0.22),ncol=2)\n",
    "plt.colorbar();"
   ]
  },
  {
   "cell_type": "code",
   "execution_count": null,
   "metadata": {},
   "outputs": [],
   "source": []
  },
  {
   "cell_type": "markdown",
   "metadata": {},
   "source": [
    "## Solucion Problema"
   ]
  },
  {
   "cell_type": "code",
   "execution_count": 38,
   "metadata": {},
   "outputs": [],
   "source": [
    "k=100"
   ]
  },
  {
   "cell_type": "code",
   "execution_count": 155,
   "metadata": {},
   "outputs": [],
   "source": [
    "keg=(-np.mean(TmG[(yy==y0)]-TmG[(yy==ye1)])-np.mean(TmG[(yy==x0)]-TmG[(yy==xe1)]))*k\n",
    "\n",
    "krg=(-np.mean(TmG[(xx>=l0x)&(xx<=l1x)&(yy==l0y)]-TmG[(xx>=l0x)&(xx<=l1x)&(yy==np.around(l0y-dl))])-np.mean(TmG[(xx>=l0x)&(xx<=l1x)&(yy==l1y)]-TmG[(xx>=l1x)&(xx<=l1x)&(yy==np.around(l1y+dl,decimals=5))])-np.mean(TmG[(yy>=l0y)&(yy<=l1y)&(xx==l0x)]-TmG[(yy>=l0y)&(yy<=l1y)&(xx==np.around(l0x-dl,decimals=5))])-np.mean(TmG[(yy>=l0y)&(yy<=l1y)&(xx==l1x)]-TmG[(yy>=l0y)&(yy<=l1y)&(xx==np.around(l1x+dl,decimals=5))]))*k"
   ]
  },
  {
   "cell_type": "code",
   "execution_count": 156,
   "metadata": {},
   "outputs": [],
   "source": [
    "ker=(-np.mean(TmR[(yy==y0)]-TmR[(yy==ye1)])-np.mean(TmR[(yy==x0)]-TmR[(yy==xe1)]))*k\n",
    "\n",
    "krr=(-np.mean(TmR[(xx>=l0x)&(xx<=l1x)&(yy==l0y)]-TmR[(xx>=l0x)&(xx<=l1x)&(yy==np.around(l0y-dl,decimals=5))])-np.mean(TmR[(xx>=l0x)&(xx<=l1x)&(yy==l1y)]-TmR[(xx>=l1x)&(xx<=l1x)&(yy==np.around(l1y+dl,decimals=5))])-np.mean(TmR[(yy>=l0y)&(yy<=l1y)&(xx==l0x)]-TmR[(yy>=l0y)&(yy<=l1y)&(xx==np.around(l0x-dl,decimals=5))])-np.mean(TmR[(yy>=l0y)&(yy<=l1y)&(xx==l1x)]-TmR[(yy>=l0y)&(yy<=l1y)&(xx==np.around(l1x+dl,decimals=5))]))*k"
   ]
  },
  {
   "cell_type": "code",
   "execution_count": 157,
   "metadata": {},
   "outputs": [],
   "source": [
    "kee=(-np.mean(TmE[(yy==y0)]-TmE[(yy==ye1)])-np.mean(TmE[(yy==x0)]-TmE[(yy==xe1)]))*k\n",
    "\n",
    "kre=(-np.mean(TmE[(xx>=l0x)&(xx<=l1x)&(yy==l0y)]-TmE[(xx>=l0x)&(xx<=l1x)&(yy==np.around(l0y-dl,decimals=5))])-np.mean(TmE[(xx>=l0x)&(xx<=l1x)&(yy==l1y)]-TmE[(xx>=l1x)&(xx<=l1x)&(yy==np.around(l1y+dl,decimals=5))])-np.mean(TmE[(yy>=l0y)&(yy<=l1y)&(xx==l0x)]-TmE[(yy>=l0y)&(yy<=l1y)&(xx==np.around(l0x-dl,decimals=5))])-np.mean(TmE[(yy>=l0y)&(yy<=l1y)&(xx==l1x)]-TmE[(yy>=l0y)&(yy<=l1y)&(xx==np.around(l1x+dl,decimals=5))]))*k"
   ]
  },
  {
   "cell_type": "code",
   "execution_count": 158,
   "metadata": {},
   "outputs": [
    {
     "name": "stdout",
     "output_type": "stream",
     "text": [
      "15.710598856571046\n",
      "502.08306783366316\n",
      "12.174919682912584\n",
      "-44.384323363639844\n",
      "-12.220260829026564\n",
      "44.3931493401584\n"
     ]
    }
   ],
   "source": [
    "print(keg)\n",
    "print(krg)\n",
    "print(ker)\n",
    "print(krr)\n",
    "print(kee)\n",
    "print(kre)"
   ]
  },
  {
   "cell_type": "code",
   "execution_count": 173,
   "metadata": {},
   "outputs": [],
   "source": [
    "pr=2*(lpx+lpy)\n",
    "rho=997\n",
    "cp=4179.6\n",
    "Q=0.00001             #revisar\n",
    "Qg=50000*2*dl/k             #revisar\n",
    "\n",
    "pe=0.8\n",
    "Tinf=25\n",
    "T0=40"
   ]
  },
  {
   "cell_type": "code",
   "execution_count": 174,
   "metadata": {},
   "outputs": [
    {
     "data": {
      "text/plain": [
       "9.074354252865609"
      ]
     },
     "execution_count": 174,
     "metadata": {},
     "output_type": "execute_result"
    }
   ],
   "source": [
    "#he:\n",
    "ve=10\n",
    "Pre=0.707\n",
    "nu=18.37*np.power(0.1,6)\n",
    "Ree=ve*x0/nu\n",
    "ke=0.0263\n",
    "he=0.332*np.power(Ree,1/2)*np.power(Pre,1/3)*ke/x0\n",
    "he"
   ]
  },
  {
   "cell_type": "code",
   "execution_count": 175,
   "metadata": {},
   "outputs": [
    {
     "data": {
      "text/plain": [
       "18.952499999999997"
      ]
     },
     "execution_count": 175,
     "metadata": {},
     "output_type": "execute_result"
    }
   ],
   "source": [
    "#hr:\n",
    "kr=0.630\n",
    "hr=3.61*kr*pr/(4*lpx*lpy)\n",
    "hr"
   ]
  },
  {
   "cell_type": "code",
   "execution_count": 176,
   "metadata": {},
   "outputs": [],
   "source": [
    "ca1=hr*pr/(rho*cp*Q)\n",
    "ca2=(hr*pr-krr-(kre*ker/(he*pe-kee)))\n",
    "c1=(ca1/ca2)*(krg*Qg+kre*(keg*Qg+he*pe*Tinf)/(he*pe-kee))\n",
    "c2=ca1*((hr*pr/ca2)-1)"
   ]
  },
  {
   "cell_type": "code",
   "execution_count": 177,
   "metadata": {},
   "outputs": [
    {
     "name": "stdout",
     "output_type": "stream",
     "text": [
      "49.136756101169105\n",
      "-0.14114170067885576\n"
     ]
    }
   ],
   "source": [
    "print(c1)\n",
    "print(c2)"
   ]
  },
  {
   "cell_type": "code",
   "execution_count": 178,
   "metadata": {},
   "outputs": [
    {
     "data": {
      "text/plain": [
       "0.1"
      ]
     },
     "execution_count": 178,
     "metadata": {},
     "output_type": "execute_result"
    }
   ],
   "source": [
    "Q/(dl*dl)"
   ]
  },
  {
   "cell_type": "code",
   "execution_count": null,
   "metadata": {},
   "outputs": [],
   "source": []
  },
  {
   "cell_type": "code",
   "execution_count": 179,
   "metadata": {},
   "outputs": [
    {
     "data": {
      "image/png": "[encoded data removed]",
      "text/plain": [
       "<Figure size 432x288 with 1 Axes>"
      ]
     },
     "metadata": {
      "needs_background": "light"
     },
     "output_type": "display_data"
    }
   ],
   "source": [
    "from scipy.integrate import odeint\n",
    "\n",
    "# function that returns dy/dt\n",
    "def model(T,z):\n",
    "    dTdz = c1+c2*T\n",
    "    return dTdz\n",
    "\n",
    "z = np.linspace(0,1,num=101, endpoint=True)\n",
    "\n",
    "Tmedz = odeint(model,T0,z)\n",
    "\n",
    "# plot results\n",
    "plt.plot(z,Tmedz)\n",
    "plt.xlabel('z')\n",
    "plt.ylabel('Tmedz')\n",
    "plt.show()"
   ]
  },
  {
   "cell_type": "code",
   "execution_count": 180,
   "metadata": {},
   "outputs": [],
   "source": [
    "Trz=(krg*Qg+hr*pr*Tmedz+kre*((keg*Qg+he*pe*Tinf)/(he*pe-kee)))/(hr*pr-krr-(kre*ker/(he*pe-kee)))"
   ]
  },
  {
   "cell_type": "code",
   "execution_count": 181,
   "metadata": {},
   "outputs": [],
   "source": [
    "Tez=(keg*Qg+he*pe*Tinf+ker*Trz)/(he*pe-kee)"
   ]
  },
  {
   "cell_type": "code",
   "execution_count": 182,
   "metadata": {},
   "outputs": [],
   "source": [
    "Qgz=Qg    #revisar"
   ]
  },
  {
   "cell_type": "code",
   "execution_count": 188,
   "metadata": {},
   "outputs": [],
   "source": [
    "Tfin=np.zeros((np.size(z),ny,nx))\n",
    "Tmax=np.zeros(np.size(z))"
   ]
  },
  {
   "cell_type": "code",
   "execution_count": 189,
   "metadata": {},
   "outputs": [],
   "source": [
    "for i in range((np.size(z))):\n",
    "    Tfin[i,:,:]=Qgz*TmG+Trz[i]*TmR+Tez[i]*TmE\n",
    "    Tmax[i]=np.max(Tfin[i,:,:])"
   ]
  },
  {
   "cell_type": "code",
   "execution_count": 190,
   "metadata": {},
   "outputs": [
    {
     "data": {
      "image/png": "[encoded data removed]",
      "text/plain": [
       "<Figure size 432x288 with 2 Axes>"
      ]
     },
     "metadata": {
      "needs_background": "light"
     },
     "output_type": "display_data"
    }
   ],
   "source": [
    "plt.contourf(xx, yy, Tfin[0,:,:], 20)\n",
    "plt.plot([0.05,0.15],[0.05,0.05],\"--\",c=\"r\")\n",
    "plt.plot([0.05,0.15],[0.15,0.15],\"--\",c=\"r\")\n",
    "plt.plot([0.05,0.05],[0.05,0.15],\"--\",c=\"r\")\n",
    "plt.plot([0.15,0.15],[0.05,0.15],\"--\",c=\"r\",label=\"Núcleo\")\n",
    "plt.plot([l0x,l0x],[l0y,l1y],\"--\",c=\"k\")\n",
    "plt.plot([l0x,l1x],[l0y,l0y],\"--\",c=\"k\")\n",
    "plt.plot([l0x,l1x],[l1y,l1y],\"--\",c=\"k\")\n",
    "plt.plot([l1x,l1x],[l0y,l1y],\"--\",c=\"k\",label=\"Canal\")\n",
    "plt.legend(loc=(0.2,-0.22),ncol=2)\n",
    "plt.colorbar();"
   ]
  },
  {
   "cell_type": "code",
   "execution_count": 191,
   "metadata": {},
   "outputs": [
    {
     "data": {
      "text/plain": [
       "array([[40.        ],\n",
       "       [40.43460422],\n",
       "       [40.86859546],\n",
       "       [41.30197453],\n",
       "       [41.7347424 ],\n",
       "       [42.1668996 ],\n",
       "       [42.59844715],\n",
       "       [43.02938599],\n",
       "       [43.45971709],\n",
       "       [43.88944142],\n",
       "       [44.31855977],\n",
       "       [44.74707288],\n",
       "       [45.1749816 ],\n",
       "       [45.60228678],\n",
       "       [46.0289893 ],\n",
       "       [46.45508998],\n",
       "       [46.88058969],\n",
       "       [47.30548925],\n",
       "       [47.72978952],\n",
       "       [48.15349136],\n",
       "       [48.57659557],\n",
       "       [48.99910307],\n",
       "       [49.42101465],\n",
       "       [49.84233115],\n",
       "       [50.26305341],\n",
       "       [50.68318228],\n",
       "       [51.10271859],\n",
       "       [51.52166318],\n",
       "       [51.94001688],\n",
       "       [52.35778053],\n",
       "       [52.77495495],\n",
       "       [53.19154099],\n",
       "       [53.60753946],\n",
       "       [54.02295121],\n",
       "       [54.43777705],\n",
       "       [54.85201781],\n",
       "       [55.26567431],\n",
       "       [55.67874738],\n",
       "       [56.09123785],\n",
       "       [56.50314654],\n",
       "       [56.91447427],\n",
       "       [57.32522185],\n",
       "       [57.73539011],\n",
       "       [58.14497985],\n",
       "       [58.5539919 ],\n",
       "       [58.96242707],\n",
       "       [59.37028617],\n",
       "       [59.77757001],\n",
       "       [60.18427941],\n",
       "       [60.59041517],\n",
       "       [60.99597811],\n",
       "       [61.40096904],\n",
       "       [61.80538876],\n",
       "       [62.20923808],\n",
       "       [62.6125178 ],\n",
       "       [63.01522873],\n",
       "       [63.41737166],\n",
       "       [63.8189474 ],\n",
       "       [64.21995675],\n",
       "       [64.62040051],\n",
       "       [65.02027948],\n",
       "       [65.41959444],\n",
       "       [65.81834621],\n",
       "       [66.21653557],\n",
       "       [66.61416331],\n",
       "       [67.01123023],\n",
       "       [67.40773711],\n",
       "       [67.80368476],\n",
       "       [68.19907395],\n",
       "       [68.59390548],\n",
       "       [68.98818013],\n",
       "       [69.38189868],\n",
       "       [69.77506193],\n",
       "       [70.16767065],\n",
       "       [70.55972562],\n",
       "       [70.95122764],\n",
       "       [71.34217747],\n",
       "       [71.7325759 ],\n",
       "       [72.1224237 ],\n",
       "       [72.51172165],\n",
       "       [72.90047052],\n",
       "       [73.2886711 ],\n",
       "       [73.67632416],\n",
       "       [74.06343046],\n",
       "       [74.44999079],\n",
       "       [74.8360059 ],\n",
       "       [75.22147657],\n",
       "       [75.60640356],\n",
       "       [75.99078765],\n",
       "       [76.37462959],\n",
       "       [76.75793016],\n",
       "       [77.14069012],\n",
       "       [77.52291022],\n",
       "       [77.90459123],\n",
       "       [78.28573392],\n",
       "       [78.66633903],\n",
       "       [79.04640733],\n",
       "       [79.42593957],\n",
       "       [79.80493652],\n",
       "       [80.18339892],\n",
       "       [80.56132753]])"
      ]
     },
     "execution_count": 191,
     "metadata": {},
     "output_type": "execute_result"
    }
   ],
   "source": [
    "Tmedz"
   ]
  },
  {
   "cell_type": "code",
   "execution_count": 192,
   "metadata": {},
   "outputs": [
    {
     "data": {
      "text/plain": [
       "array([380.09442014, 380.22895539, 380.36330088, 380.49745687,\n",
       "       380.63142366, 380.76520141, 380.89879044, 381.03219104,\n",
       "       381.1654035 , 381.29842814, 381.43126519, 381.56391488,\n",
       "       381.69637748, 381.82865325, 381.96074246, 382.09264536,\n",
       "       382.22436223, 382.35589332, 382.4872389 , 382.61839922,\n",
       "       382.74937455, 382.88016516, 383.01077129, 383.14119321,\n",
       "       383.27143119, 383.40148547, 383.53135632, 383.661044  ,\n",
       "       383.79054877, 383.91987088, 384.04901059, 384.17796816,\n",
       "       384.30674385, 384.43533791, 384.56375059, 384.69198216,\n",
       "       384.82003287, 384.94790298, 385.07559273, 385.20310239,\n",
       "       385.33043221, 385.45758244, 385.58455334, 385.71134515,\n",
       "       385.83795813, 385.96439254, 386.09064862, 386.21672662,\n",
       "       386.34262679, 386.4683494 , 386.59389468, 386.71926289,\n",
       "       386.84445428, 386.9694691 , 387.09430759, 387.21897001,\n",
       "       387.3434566 , 387.46776762, 387.5919033 , 387.7158639 ,\n",
       "       387.83964966, 387.96326083, 388.08669766, 388.20996039,\n",
       "       388.33304927, 388.45596454, 388.57870645, 388.70127524,\n",
       "       388.82367115, 388.94589444, 389.06794534, 389.1898241 ,\n",
       "       389.31153095, 389.43306615, 389.55442994, 389.67562255,\n",
       "       389.79664422, 389.91749521, 390.03817574, 390.15868606,\n",
       "       390.27902642, 390.39919704, 390.51919818, 390.63903006,\n",
       "       390.75869293, 390.87818702, 390.99751258, 391.11666984,\n",
       "       391.23565903, 391.35448041, 391.47313419, 391.59162063,\n",
       "       391.70993995, 391.82809238, 391.94607818, 392.06389757,\n",
       "       392.18155078, 392.29903805, 392.41635961, 392.5335157 ,\n",
       "       392.65050655])"
      ]
     },
     "execution_count": 192,
     "metadata": {},
     "output_type": "execute_result"
    }
   ],
   "source": [
    "Tmax"
   ]
  },
  {
   "cell_type": "code",
   "execution_count": null,
   "metadata": {},
   "outputs": [],
   "source": []
  }
 ],
 "metadata": {
  "kernelspec": {
   "display_name": "Python 3",
   "language": "python",
   "name": "python3"
  },
  "language_info": {
   "codemirror_mode": {
    "name": "ipython",
    "version": 3
   },
   "file_extension": ".py",
   "mimetype": "text/x-python",
   "name": "python",
   "nbconvert_exporter": "python",
   "pygments_lexer": "ipython3",
   "version": "3.6.7"
  }
 },
 "nbformat": 4,
 "nbformat_minor": 2
}
